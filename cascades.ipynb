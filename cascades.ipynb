{
 "cells": [
  {
   "cell_type": "code",
   "execution_count": null,
   "metadata": {},
   "outputs": [],
   "source": [
    "import numpy as np\n",
    "import matplotlib.pyplot as plt\n",
    "import networkx as nx\n",
    "import pandas as pd\n",
    "\n",
    "import importlib\n",
    "import normalized_count\n",
    "import helpers\n",
    "importlib.reload(normalized_count)\n",
    "importlib.reload(helpers)"
   ]
  },
  {
   "cell_type": "code",
   "execution_count": 2,
   "metadata": {},
   "outputs": [
    {
     "ename": "ModuleNotFoundError",
     "evalue": "No module named 'matplotlib'",
     "output_type": "error",
     "traceback": [
      "\u001b[0;31m---------------------------------------------------------------------------\u001b[0m",
      "\u001b[0;31mModuleNotFoundError\u001b[0m                       Traceback (most recent call last)",
      "\u001b[0;32m<ipython-input-2-bced6897d2ef>\u001b[0m in \u001b[0;36m<module>\u001b[0;34m\u001b[0m\n\u001b[0;32m----> 1\u001b[0;31m \u001b[0;32mimport\u001b[0m \u001b[0mmatplotlib\u001b[0m \u001b[0;32mas\u001b[0m \u001b[0mmpl\u001b[0m\u001b[0;34m\u001b[0m\u001b[0;34m\u001b[0m\u001b[0m\n\u001b[0m\u001b[1;32m      2\u001b[0m \u001b[0mmpl\u001b[0m\u001b[0;34m.\u001b[0m\u001b[0mrcParams\u001b[0m\u001b[0;34m[\u001b[0m\u001b[0;34m'figure.dpi'\u001b[0m\u001b[0;34m]\u001b[0m\u001b[0;34m=\u001b[0m \u001b[0;36m500\u001b[0m\u001b[0;34m\u001b[0m\u001b[0;34m\u001b[0m\u001b[0m\n",
      "\u001b[0;31mModuleNotFoundError\u001b[0m: No module named 'matplotlib'"
     ]
    }
   ],
   "source": [
    "import matplotlib as mpl\n",
    "mpl.rcParams['figure.dpi']= 500"
   ]
  },
  {
   "cell_type": "code",
   "execution_count": 3,
   "metadata": {},
   "outputs": [
    {
     "ename": "NameError",
     "evalue": "name 'normalized_count' is not defined",
     "output_type": "error",
     "traceback": [
      "\u001b[0;31m---------------------------------------------------------------------------\u001b[0m",
      "\u001b[0;31mNameError\u001b[0m                                 Traceback (most recent call last)",
      "\u001b[0;32m<ipython-input-3-21e63c2a1ad9>\u001b[0m in \u001b[0;36m<module>\u001b[0;34m\u001b[0m\n\u001b[1;32m      1\u001b[0m \u001b[0mdata_dir\u001b[0m \u001b[0;34m=\u001b[0m \u001b[0;34m\"data\"\u001b[0m\u001b[0;34m\u001b[0m\u001b[0;34m\u001b[0m\u001b[0m\n\u001b[0;32m----> 2\u001b[0;31m \u001b[0mdw\u001b[0m \u001b[0;34m=\u001b[0m \u001b[0mnormalized_count\u001b[0m\u001b[0;34m.\u001b[0m\u001b[0mDataWrangler\u001b[0m\u001b[0;34m(\u001b[0m\u001b[0mdata_dir\u001b[0m\u001b[0;34m,\u001b[0m \u001b[0mdo_3d\u001b[0m\u001b[0;34m=\u001b[0m\u001b[0;32mTrue\u001b[0m\u001b[0;34m)\u001b[0m\u001b[0;34m\u001b[0m\u001b[0;34m\u001b[0m\u001b[0m\n\u001b[0m",
      "\u001b[0;31mNameError\u001b[0m: name 'normalized_count' is not defined"
     ]
    }
   ],
   "source": [
    "data_dir = \"data\"\n",
    "dw = normalized_count.DataWrangler(data_dir, do_3d=True)"
   ]
  },
  {
   "cell_type": "code",
   "execution_count": null,
   "metadata": {},
   "outputs": [],
   "source": [
    "max(dw.dfs[0][\"t\"])"
   ]
  },
  {
   "cell_type": "code",
   "execution_count": null,
   "metadata": {},
   "outputs": [],
   "source": [
    "fig, ax = plt.subplots(figsize=(16, 8))\n",
    "fig.patch.set_facecolor(\"white\")\n",
    "dw.dfs[0][\"t\"].hist(ax=ax, bins=max(dw.dfs[0][\"t\"]))"
   ]
  },
  {
   "cell_type": "code",
   "execution_count": null,
   "metadata": {},
   "outputs": [],
   "source": [
    "def get_cascade_bounds(ts, num_empty_threshold=2):\n",
    "    ts_sorted = sorted(ts)\n",
    "    \n",
    "    bounds = []\n",
    "    bounds.append(ts_sorted[0])\n",
    "    \n",
    "    last_t = ts_sorted[0]\n",
    "    for i in range(1, len(ts_sorted)):\n",
    "        current_t = ts_sorted[i]\n",
    "        \n",
    "        if current_t - last_t > num_empty_threshold:\n",
    "            bounds.append(last_t + 1)\n",
    "            \n",
    "        last_t = current_t\n",
    "        \n",
    "    bounds.append(last_t + 1)\n",
    "        \n",
    "    return bounds"
   ]
  },
  {
   "cell_type": "code",
   "execution_count": null,
   "metadata": {},
   "outputs": [],
   "source": [
    "def make_cascades_df(bounds):\n",
    "    cascades = []\n",
    "    \n",
    "    cascade_no = 1\n",
    "    \n",
    "    for i in range(1, len(bounds)):\n",
    "        cascade_start = bounds[i - 1]\n",
    "        cascade_end = bounds[i]\n",
    "        cascades.append((cascade_no, cascade_start, cascade_end))\n",
    "        cascade_no += 1\n",
    "        \n",
    "    cascades_df = pd.DataFrame(cascades, columns=[\"cascade_no\", \"cascade_start\", \"cascade_end\"])\n",
    "    \n",
    "    return cascades_df"
   ]
  },
  {
   "cell_type": "code",
   "execution_count": null,
   "metadata": {},
   "outputs": [],
   "source": [
    "def extend_df_with_cascade_no(xyzt_df, num_empty_threshold=2):\n",
    "    bounds = get_cascade_bounds(xyzt_df[\"t\"], num_empty_threshold=num_empty_threshold)\n",
    "    cascades_df = make_cascades_df(bounds)\n",
    "    print(cascades_df)\n",
    "    \n",
    "    def get_cascade_no_for_t(t):\n",
    "        filtered_df = cascades_df.loc[(t >= cascades_df[\"cascade_start\"]) &\n",
    "                                      (t < cascades_df[\"cascade_end\"])]\n",
    "        no = filtered_df[\"cascade_no\"]\n",
    "        \n",
    "        if len(no) != 1:\n",
    "            print(t)\n",
    "            print(no)\n",
    "            raise Exception(\"ahhh\")\n",
    "            \n",
    "        return list(no)[0]\n",
    "    \n",
    "    xyzt_df[\"cascade_no\"] = xyzt_df[\"t\"].apply(lambda t: get_cascade_no_for_t(t))\n",
    "    \n",
    "    return\n",
    "\n",
    "extend_df_with_cascade_no(dw.dfs[0], num_empty_threshold=30)\n",
    "extend_df_with_cascade_no(dw.dfs[1], num_empty_threshold=30)"
   ]
  },
  {
   "cell_type": "code",
   "execution_count": null,
   "metadata": {},
   "outputs": [],
   "source": [
    "fig, ax = plt.subplots(figsize=(14, 10))\n",
    "fig.patch.set_facecolor(\"white\")\n",
    "ax.set_title(\"Flashes per cascade, df #0\")\n",
    "ax.set_xlabel(\"cascade number\")\n",
    "ax.set_ylabel(\"number of flashes in cascade\")\n",
    "dw.dfs[0].groupby(\"cascade_no\").size().plot.bar(ax=ax)"
   ]
  },
  {
   "cell_type": "code",
   "execution_count": null,
   "metadata": {},
   "outputs": [],
   "source": [
    "fig, ax = plt.subplots(figsize=(14, 10))\n",
    "fig.patch.set_facecolor(\"white\")\n",
    "ax.set_title(\"Flashes per cascade, df #1\")\n",
    "ax.set_xlabel(\"cascade number\")\n",
    "ax.set_ylabel(\"number of flashes in cascade\")\n",
    "dw.dfs[1].groupby(\"cascade_no\").size().plot.bar(ax=ax)"
   ]
  },
  {
   "cell_type": "code",
   "execution_count": null,
   "metadata": {},
   "outputs": [],
   "source": [
    "fig, ax = plt.subplots(figsize=(26, 8))\n",
    "fig.patch.set_facecolor(\"white\")\n",
    "ax.set_xlabel(\"timestep\")\n",
    "ax.set_ylabel(\"# flashes\")\n",
    "ax.set_title(\"Flashes per timestep on experimental data: wild\")\n",
    "dw.dfs[1][\"t\"].bar(ax=ax)\n",
    "\n",
    "fig.savefig(\"figures/500dpi_flash_per_t_wild.png\", dpi=500)"
   ]
  },
  {
   "cell_type": "code",
   "execution_count": null,
   "metadata": {},
   "outputs": [],
   "source": [
    "bounds_0 = get_cascade_bounds(dw.dfs[1][\"t\"], num_empty_threshold=30)\n",
    "\n",
    "for bound in bounds_0:\n",
    "    ax.axvline(bound, color=\"red\", linewidth=0.15)"
   ]
  },
  {
   "cell_type": "code",
   "execution_count": null,
   "metadata": {},
   "outputs": [],
   "source": [
    "fig.savefig(\"figures/500dpi_flast_per_t_wild_wcascades_30thresh.png\")\n",
    "fig"
   ]
  },
  {
   "cell_type": "code",
   "execution_count": null,
   "metadata": {},
   "outputs": [],
   "source": []
  },
  {
   "cell_type": "code",
   "execution_count": null,
   "metadata": {},
   "outputs": [],
   "source": [
    "sim_file = \"labeled_data/0.08density0.1betadistributionTb_obstacles4000_steps_experiment_results_2020-11-20_09:43:50.078343_trial_0_csv_labeled.csv\"\n",
    "dw_sim = normalized_count.DataWrangler(sim_file, is_labeled=True)"
   ]
  },
  {
   "cell_type": "code",
   "execution_count": null,
   "metadata": {},
   "outputs": [],
   "source": [
    "sim_df = dw_sim.dfs[0]\n",
    "\n",
    "fig, ax = plt.subplots(figsize=(26, 8))\n",
    "fig.patch.set_facecolor(\"white\")\n",
    "ax.set_xlabel(\"timestep\")\n",
    "ax.set_ylabel(\"# flashes\")\n",
    "ax.set_title(\"Historgram of Flashes on sim df 0.08 #1\")\n",
    "sim_df[\"t\"].hist(ax=ax, bins=max(sim_df[\"t\"]))"
   ]
  },
  {
   "cell_type": "code",
   "execution_count": null,
   "metadata": {},
   "outputs": [],
   "source": [
    "bounds_0 = get_cascade_bounds(sim_df[\"t\"], num_empty_threshold=6)\n",
    "\n",
    "for bound in bounds_0:\n",
    "    ax.axvline(bound, color=\"red\", linewidth=0.08)\n",
    "    \n",
    "fig"
   ]
  },
  {
   "cell_type": "code",
   "execution_count": null,
   "metadata": {},
   "outputs": [],
   "source": []
  }
 ],
 "metadata": {
  "kernelspec": {
   "display_name": "py_3_7",
   "language": "python",
   "name": "py_3_7"
  },
  "language_info": {
   "codemirror_mode": {
    "name": "ipython",
    "version": 3
   },
   "file_extension": ".py",
   "mimetype": "text/x-python",
   "name": "python",
   "nbconvert_exporter": "python",
   "pygments_lexer": "ipython3",
   "version": "3.9.0"
  }
 },
 "nbformat": 4,
 "nbformat_minor": 4
}
